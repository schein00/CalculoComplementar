{
  "nbformat": 4,
  "nbformat_minor": 0,
  "metadata": {
    "kernelspec": {
      "display_name": "Python 3",
      "language": "python",
      "name": "python3"
    },
    "language_info": {
      "codemirror_mode": {
        "name": "ipython",
        "version": 3
      },
      "file_extension": ".py",
      "mimetype": "text/x-python",
      "name": "python",
      "nbconvert_exporter": "python",
      "pygments_lexer": "ipython3",
      "version": "3.7.3"
    },
    "colab": {
      "name": "Untitled.ipynb",
      "provenance": []
    }
  },
  "cells": [
    {
      "cell_type": "markdown",
      "metadata": {
        "id": "St5enVkhCdx1",
        "colab_type": "text"
      },
      "source": [
        "Utiizando sympy para resolver frações\n"
      ]
    },
    {
      "cell_type": "code",
      "metadata": {
        "id": "zYeLRg9ECY6W",
        "colab_type": "code",
        "colab": {
          "base_uri": "https://localhost:8080/",
          "height": 34
        },
        "outputId": "32f00d6a-8807-45f0-accf-d805d9bdf19e"
      },
      "source": [
        "from sympy import *\n",
        "\n",
        "#primeiro número dividido pelo segundo\n",
        "a = Rational(1275,456)\n",
        "print(a)\n"
      ],
      "execution_count": 1,
      "outputs": [
        {
          "output_type": "stream",
          "text": [
            "425/152\n"
          ],
          "name": "stdout"
        }
      ]
    },
    {
      "cell_type": "markdown",
      "metadata": {
        "id": "hwsqRFvrCckm",
        "colab_type": "text"
      },
      "source": [
        "Utilizando sympy para resolver limites"
      ]
    },
    {
      "cell_type": "code",
      "metadata": {
        "id": "5_bUPNBmCukl",
        "colab_type": "code",
        "colab": {
          "base_uri": "https://localhost:8080/",
          "height": 34
        },
        "outputId": "a2b77f70-a2e8-4bd0-e243-9ece80c7267c"
      },
      "source": [
        "x=Symbol(\"x\")\n",
        "limit(1 - (100/((x+10)**2)), x, 5)"
      ],
      "execution_count": 6,
      "outputs": [
        {
          "output_type": "execute_result",
          "data": {
            "text/plain": [
              "5/9"
            ]
          },
          "metadata": {
            "tags": []
          },
          "execution_count": 6
        }
      ]
    },
    {
      "cell_type": "markdown",
      "metadata": {
        "id": "PZOMAg2rDFbl",
        "colab_type": "text"
      },
      "source": [
        "Utilizando sympy para resolver devidas"
      ]
    },
    {
      "cell_type": "code",
      "metadata": {
        "id": "8ohZClrpDcQo",
        "colab_type": "code",
        "colab": {
          "base_uri": "https://localhost:8080/",
          "height": 34
        },
        "outputId": "566bf7a8-d0c5-4bdc-8cc2-71f404dac4c1"
      },
      "source": [
        "from sympy import *\n",
        "\n",
        "x = Symbol('x')\n",
        "diff(1/(x**3), x)"
      ],
      "execution_count": 7,
      "outputs": [
        {
          "output_type": "execute_result",
          "data": {
            "text/plain": [
              "-3/x**4"
            ]
          },
          "metadata": {
            "tags": []
          },
          "execution_count": 7
        }
      ]
    },
    {
      "cell_type": "markdown",
      "metadata": {
        "id": "kouriftvD0Nv",
        "colab_type": "text"
      },
      "source": [
        "Utilizando sympy para resolver integral"
      ]
    },
    {
      "cell_type": "code",
      "metadata": {
        "id": "5fDH3wEYD6Rg",
        "colab_type": "code",
        "colab": {
          "base_uri": "https://localhost:8080/",
          "height": 34
        },
        "outputId": "19401598-1a7a-4777-eae3-531c7dbef42b"
      },
      "source": [
        "x, y = symbols('x,y')\n",
        "integrate(2*x**2 - x**4 + 178, x) "
      ],
      "execution_count": 9,
      "outputs": [
        {
          "output_type": "execute_result",
          "data": {
            "text/plain": [
              "-x**5/5 + 2*x**3/3 + 178*x"
            ]
          },
          "metadata": {
            "tags": []
          },
          "execution_count": 9
        }
      ]
    }
  ]
}