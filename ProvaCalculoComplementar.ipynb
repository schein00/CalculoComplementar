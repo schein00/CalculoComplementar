{
  "nbformat": 4,
  "nbformat_minor": 0,
  "metadata": {
    "colab": {
      "name": "Untitled0.ipynb",
      "provenance": [],
      "collapsed_sections": [],
      "include_colab_link": true
    },
    "kernelspec": {
      "name": "python3",
      "display_name": "Python 3"
    }
  },
  "cells": [
    {
      "cell_type": "markdown",
      "metadata": {
        "id": "view-in-github",
        "colab_type": "text"
      },
      "source": [
        "<a href=\"https://colab.research.google.com/github/schein00/CalculoComplementar/blob/master/ProvaCalculoComplementar.ipynb\" target=\"_parent\"><img src=\"https://colab.research.google.com/assets/colab-badge.svg\" alt=\"Open In Colab\"/></a>"
      ]
    },
    {
      "cell_type": "markdown",
      "metadata": {
        "id": "vl_1hwJs4Pr3",
        "colab_type": "text"
      },
      "source": [
        "**Problema 01**: Estima-se que a produção semanal de uma fábrica é dada pela função f(x,\n",
        "y) = 1.200x+ 500y+ x\n",
        "2 y – x\n",
        "3\n",
        "– y\n",
        "2\n",
        "unidades, onde x é o número de operários\n",
        "especializados e y o número de operários não especializados utilizados no trabalho. No\n",
        "momento, a mão de obra disponível é constituída por 30 operários especializados e 60\n",
        "operários não especializados. Use a análise marginal para estimar a variação da\n",
        "produção se mais 1 operário especializado for contratado e o número de operários não\n",
        "especializado permanecer constante."
      ]
    },
    {
      "cell_type": "code",
      "metadata": {
        "id": "OTioPqbj9Tlc",
        "colab_type": "code",
        "outputId": "fe621899-8e8f-4079-a58c-29200639993e",
        "colab": {
          "base_uri": "https://localhost:8080/",
          "height": 34
        }
      },
      "source": [
        "import numpy as np\n",
        "import pylab as plt\n",
        "\n",
        "\n",
        "f = lambda x: 1200*x + 500*60 + (x**2)*60 - x**3 - 60**2\n",
        "\n",
        "\n",
        "def derivada_parcial(funcao, a, h=0.01):\n",
        "  return (funcao(a+h)-funcao(a-h))/(2*h)\n",
        "\n",
        "\n",
        "print('A variação semanal com a variação de 1 funcionario especializado será de apoximadamente: '+str(derivada_parcial(f, 30)))"
      ],
      "execution_count": 27,
      "outputs": [
        {
          "output_type": "stream",
          "text": [
            "A variação semanal com a variação de 1 funcionario especializado será de apoximadamente: 2099.999899999966\n"
          ],
          "name": "stdout"
        }
      ]
    },
    {
      "cell_type": "markdown",
      "metadata": {
        "id": "eiG_961y4cqi",
        "colab_type": "text"
      },
      "source": [
        "**Problema 02**: Um empresário calcula que, quando xunidades de um certo produto são\n",
        "fabricadas, o lucro é dado por f(x) = - 400x2+ 6.800x-12.000 reais. Qual é a taxa de\n",
        "variação do lucro em relação ao nível de produção xquando estão sendo produzidas\n",
        "9.000 unidades?"
      ]
    },
    {
      "cell_type": "code",
      "metadata": {
        "id": "z8dGbc1WFJog",
        "colab_type": "code",
        "outputId": "c600e7af-c862-4850-b298-ba23e248a63d",
        "colab": {
          "base_uri": "https://localhost:8080/",
          "height": 34
        }
      },
      "source": [
        "\n",
        "import numpy as np\n",
        "import pylab as plt\n",
        "\n",
        "\n",
        "y = lambda x: -400*(x**2)+ 6800*x-12000\n",
        "\n",
        "\n",
        "def derivada(funcao, a, h=0.01):\n",
        "    return (funcao(a+h)-funcao(a-h))/(2*h)\n",
        "\n",
        "\n",
        "z = derivada(y, 9000)\n",
        "\n",
        "if z < 0:\n",
        "  print('Está tendo um prejuizo de : '+str(z))\n",
        "else:\n",
        "  print('Está tendo um lucro de : '+str(z))\n",
        "  "
      ],
      "execution_count": 28,
      "outputs": [
        {
          "output_type": "stream",
          "text": [
            "Está tendo um prejuizo de : -7193200.0\n"
          ],
          "name": "stdout"
        }
      ]
    },
    {
      "cell_type": "markdown",
      "metadata": {
        "id": "idpol6Ks4lkL",
        "colab_type": "text"
      },
      "source": [
        "**Problema 03**: ÁREA SUPERFICIAL DO CORPO HUMANO É dada pela expressão\n",
        "empírica S(W, H) = 0,0072(W^0,425) (H^0,725) , onde W (Kg) e H(cm), são, respectivamente,\n",
        "peso e a altura da pessoa. No momento, uma certa criança pesa 34Kg e tem 1m e 20cm\n",
        "de altura."
      ]
    },
    {
      "cell_type": "code",
      "metadata": {
        "id": "nwIiP8zfHWaq",
        "colab_type": "code",
        "outputId": "a848fb90-f257-40de-90f2-fffec7d4d7ac",
        "colab": {
          "base_uri": "https://localhost:8080/",
          "height": 51
        }
      },
      "source": [
        "import numpy as np\n",
        "import pylab as plt\n",
        "\n",
        "sw = lambda x:  0.0072 * (x**0.425) * (163**0.725) \n",
        "sh = lambda x:  0.0072 * (50**0.425) * (x**0.725) \n",
        "\n",
        "\n",
        "def derivada_central(funcao, a, h=0.01):\n",
        "    return (funcao(a+h)-funcao(a-h))/(2*h)\n",
        "\n",
        "print('Variação em relação ao peso: '+str(derivada_central(sw, 50)))\n",
        "\n",
        "print('Variação em relação a altura: '+str(derivada_central(sh, 163)))\n",
        "\n",
        "print('Como a variação é 1kg, apenas a variação em relação ao peso é considerada')"
      ],
      "execution_count": 0,
      "outputs": [
        {
          "output_type": "stream",
          "text": [
            "Variação em relação ao peso: 0.01296133363370977\n",
            "Variação em relação a altura: 0.006782365088242592\n"
          ],
          "name": "stdout"
        }
      ]
    }
  ]
}